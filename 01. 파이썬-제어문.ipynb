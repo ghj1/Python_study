{
 "cells": [
  {
   "cell_type": "code",
   "execution_count": null,
   "id": "96c2742b",
   "metadata": {},
   "outputs": [],
   "source": [
    "a = 100\n",
    "\n",
    "if a > 10:\n",
    "    print('a는 99보다 크다')"
   ]
  },
  {
   "cell_type": "code",
   "execution_count": null,
   "id": "e635c4d3",
   "metadata": {},
   "outputs": [],
   "source": [
    "a = int(input('숫자를 입력해 주세요:'))\n",
    "b = a % 2\n",
    "\n",
    "if b == 0: \n",
    "    print('짝수')\n",
    "else: \n",
    "    print(f'입력된 수: {a} ==> 홀수')"
   ]
  },
  {
   "cell_type": "code",
   "execution_count": null,
   "id": "8b062e90",
   "metadata": {},
   "outputs": [],
   "source": [
    "x = int(input('성적을 입력해 주세요:'))\n",
    "\n",
    "if x > 89:\n",
    "    print(f'성적: {x}는 A 등급 입니다.')\n",
    "    \n",
    "elif 90 > x >= 80:\n",
    "    print(f'성적: {x}는 B 등급 입니다.')\n",
    "    \n",
    "elif 80 > x >= 70:\n",
    "    print(f'성적: {x}는 C 등급 입니다.')\n",
    "    \n",
    "else:\n",
    "    print(f'성적: {x}는 D 등급 입니다.')"
   ]
  },
  {
   "cell_type": "code",
   "execution_count": null,
   "id": "d02323e0",
   "metadata": {},
   "outputs": [],
   "source": [
    "import datetime  \n",
    "\n",
    "now = datetime.datetime.now()\n",
    "\n",
    "s_now = str(datetime.datetime.now())\n",
    "year = s_now[0:4]\n",
    "\n",
    "num1 = str(input('주민번호:'))\n",
    "\n",
    "G = num1[7]\n",
    "\n",
    "yea = 1900+int(num1[0:2])\n",
    "yea_2 = 2000 + int(num1[0:2])\n",
    "mon = int(num1[2:4])\n",
    "old = int(year) - int(yea)\n",
    "\n",
    "if G == '1':\n",
    "    print(f'{yea}년 {mon}월, {old}세, 남성')\n",
    "elif G == '2':\n",
    "    print(f'{yea}년 {mon}월, {old}세, 여성')\n",
    "elif G == '3':\n",
    "    print(f'{yea_2}년 {mon}월, {old}세, 남성')\n",
    "elif G == '4':\n",
    "    print(f'{yea_2}년 {mon}월, {old}세, 여성')"
   ]
  },
  {
   "cell_type": "code",
   "execution_count": null,
   "id": "774533de",
   "metadata": {},
   "outputs": [],
   "source": [
    "# 다른 방법1\n",
    "\n",
    "import datetime\n",
    "basey = datetime.datetime.now().year\n",
    "year, age, gender = 0,0,''\n",
    "a,b = input().split('-')\n",
    "if b[0] == '1':\n",
    "    gender = '남성'\n",
    "    year = 1900\n",
    "elif b[0] == '2':\n",
    "    gender = '여성'\n",
    "    year = 1900\n",
    "elif b[0] == '3':\n",
    "    gender = '남성'\n",
    "    year = 2000\n",
    "else:\n",
    "    gender = '여성'\n",
    "    year = 2000\n",
    "year += int(a[:2])\n",
    "age = int(basey)-int(year)\n",
    "print(f\"{year}년 {a[2:4]}월 {a[4:6]}일, {age}세, {gender}\") "
   ]
  },
  {
   "cell_type": "code",
   "execution_count": null,
   "id": "d6c33019",
   "metadata": {},
   "outputs": [],
   "source": [
    "# 다른 방법2\n",
    "\n",
    "import datetime  \n",
    "now = datetime.datetime.now()\n",
    "c_year = now.year #now.month, now.sec, now.day \n",
    "\n",
    "x = str(input('주민번호:'))\n",
    "\n",
    "yy = int(x[0:2])\n",
    "mm = x[2:4]\n",
    "dd = x[4:6]\n",
    "G = x[7]\n",
    "\n",
    "if G == '1':\n",
    "    gender = '남성'\n",
    "    yy += 1000 # yy = yy+1000\n",
    "if G == '2':\n",
    "    gender = '여성'\n",
    "    yy += 1000 # yy = yy+1000\n",
    "if G == '3':\n",
    "    gender = '남성'\n",
    "    yy += 2000 # yy = yy+2000\n",
    "if G == '4':\n",
    "    gender = '여성'\n",
    "    yy += 2000 # yy = yy+2000\n",
    "print(f'{yy}년 {mm}월 {dd}일,  )"
   ]
  },
  {
   "cell_type": "code",
   "execution_count": null,
   "id": "3a763cd0",
   "metadata": {},
   "outputs": [],
   "source": [
    "# 실습문제 \n",
    "\n",
    "a_list = list(input('괄호: '))\n",
    "print(a_list)\n",
    "\n",
    "t = 0 \n",
    "for i in  a_list:\n",
    "    if i == '(':\n",
    "        t = t+1\n",
    "    elif i == ')':\n",
    "        t = t-1\n",
    "    if t < 0 : # ?\n",
    "        break\n",
    "        \n",
    "        \n",
    "if t == 0 :\n",
    "    print('True')\n",
    "else:\n",
    "    print('Flase')\n",
    "    "
   ]
  },
  {
   "cell_type": "code",
   "execution_count": null,
   "id": "0ff550a4",
   "metadata": {},
   "outputs": [],
   "source": [
    "# 실습문제 커피 자동주문 머신 \n",
    "\n",
    "menu = \"\"\"[커피 자동주문 머신 메뉴]\n",
    "-------------------------------------------\n",
    "-아메리카노는 2,500원 \n",
    "-카페라떼는 3000원 \n",
    "-카푸치노는 3000원 \n",
    "입니다. 원하시는 커피종류와 잔수를 입력하세요.\n",
    "-------------------------------------------\n",
    "\"\"\"\n",
    "\n",
    "coffee1 = int(input(menu+'아메리카노 몇잔?:'))\n",
    "coffee2 = int(input('카페라떼 몇잔?:'))\n",
    "coffee3 = int(input('카푸치노 몇잔?:'))\n",
    "total = coffee1*2500 + coffee2*3000 + coffee3 *3000\n",
    "\n",
    "print(f'지불할 총 금액은 {total}원 입니다')\n",
    "\n",
    "money = int(input('돈을 넣어주세요: '))\n",
    "if money >= total:\n",
    "    print(f'거스름돈 {money - total}원 입니다.')\n",
    "else:\n",
    "    print(f'금액이 부족합니다. {total - money}원을 더 넣어주세요.')"
   ]
  },
  {
   "cell_type": "markdown",
   "id": "9ca731cb",
   "metadata": {},
   "source": [
    "### 난수: random"
   ]
  },
  {
   "cell_type": "code",
   "execution_count": null,
   "id": "edea0746",
   "metadata": {},
   "outputs": [],
   "source": [
    "import random \n",
    "\n",
    "# 정수 \n",
    "print(random.randist(10,20)) # 10 <= N <= 20 사이의 임의의 정수 1 \n",
    "print(random.randrange(10.20,2)) # 10 <= N < 20 사이의 2간격의 임의의 정수 1 \n",
    "\n",
    "# 실수 \n",
    "print(random.random()) # 0~1 사이의 임의의 실수 \n",
    "print(random.uniform(10,20)) # 10 <= N <= 20 사이의 실수 1 \n",
    "\n",
    "a_list = [1,2,3,4,5,]\n",
    "random.shuffle(a_list)    # List(range(1,6))\n",
    "print(a_list)\n",
    "\n",
    "random.choice(a_list)\n"
   ]
  },
  {
   "cell_type": "code",
   "execution_count": null,
   "id": "2b3c1b55",
   "metadata": {},
   "outputs": [],
   "source": [
    "import random\n",
    "\n",
    "a = random.randrange(1,7)\n",
    "b = random.randrange(1,7)\n",
    "\n",
    "ran = '''주사위를 던집니다!\n",
    "---------------------------------- '''\n",
    "print(ran)\n",
    "print(f'A의 주사위 숫자는 {a}입니다.')\n",
    "print(f'B의 주사위 숫자는 {b}입니다.')\n",
    "print('----------------------------------')\n",
    "\n",
    "if a > b: \n",
    "    print('A가 이겼습니다.')\n",
    "else:\n",
    "    print('B가 이겼습니다.')"
   ]
  },
  {
   "cell_type": "code",
   "execution_count": null,
   "id": "4acc1c1b",
   "metadata": {},
   "outputs": [],
   "source": [
    "# 다른 방법2\n",
    "import random\n",
    "print('주사위를 던집니다!\\n___________________________')\n",
    "a = random.randint(1,6)\n",
    "b = random.randint(1,6)\n",
    "print(f'A의 숫자는 {a}입니다')\n",
    "print(f'B의 숫자는 {b}입니다')\n",
    "print('___________________________')\n",
    "if a==b :\n",
    "    print('무승부')\n",
    "elif a > b :\n",
    "    print('A가 이겼습니다.')\n",
    "elif a < b :\n",
    "    print('B가 이겼습니다.')\n"
   ]
  },
  {
   "cell_type": "markdown",
   "id": "8daa3bd5",
   "metadata": {},
   "source": [
    "### 2. 파이썬 반복문 \n",
    "for 반복문"
   ]
  },
  {
   "cell_type": "code",
   "execution_count": null,
   "id": "2daae9b5",
   "metadata": {},
   "outputs": [],
   "source": [
    "# range\n",
    "# range(10)   #10번\n",
    "# range(1,11,1) #10번 \n",
    "# range(1,11,2) # 2씩 증가: 1, 3, 5, 7, 9\n",
    "\n",
    "for i in range (10):\n",
    "    print(f'[{i}] python')"
   ]
  },
  {
   "cell_type": "code",
   "execution_count": null,
   "id": "0ef31d5f",
   "metadata": {},
   "outputs": [],
   "source": [
    "alist = [0,1,2,3,4,5,6,7,8,9]\n",
    "for i in alist:\n",
    "    print(f'[{i}] pyhon')\n"
   ]
  },
  {
   "cell_type": "code",
   "execution_count": null,
   "id": "f5c6556c",
   "metadata": {},
   "outputs": [],
   "source": [
    "alist = ['apple','b','c','d','e','f','g','h','i','j']\n",
    "\n",
    "for i in alist:\n",
    "    print(f'[{i}] python')\n",
    "print()\n",
    "\n",
    "for i,value in enumerate(alist):\n",
    "    print(f'[{i}] [{value}] python')"
   ]
  },
  {
   "cell_type": "code",
   "execution_count": null,
   "id": "d0475729",
   "metadata": {},
   "outputs": [],
   "source": [
    "# 1~10까지 합 구하기 \n",
    "\n",
    "hap = 0 \n",
    "for i in range(1,11,1):\n",
    "    hap = hap + i \n",
    "print(f'1에서 10까지의 합계: {hap}')"
   ]
  },
  {
   "cell_type": "code",
   "execution_count": null,
   "id": "1c79de31",
   "metadata": {},
   "outputs": [],
   "source": [
    "sum(list (range(1,11)))"
   ]
  },
  {
   "cell_type": "code",
   "execution_count": null,
   "id": "b693b5d1",
   "metadata": {
    "scrolled": true
   },
   "outputs": [],
   "source": [
    "n = int(input('합계를 구할 숫자 입력: '))\n",
    "n2 = n+1\n",
    "\n",
    "hap = 0 \n",
    "for i in range(1,n2, 1):\n",
    "    hap = hap + i\n",
    "print(f'1 ~100까지의 합은: {hap}')"
   ]
  },
  {
   "cell_type": "code",
   "execution_count": null,
   "id": "de4e4e3d",
   "metadata": {},
   "outputs": [],
   "source": [
    "n = int(input('합계를 구할 숫자 입력: '))\n",
    "sum = 0 \n",
    "for i in range(1,n+1,2):\n",
    "    sum += i \n",
    "print(f'1부터 {n}까지 홀수의 합은: {sum}다.')"
   ]
  },
  {
   "cell_type": "code",
   "execution_count": null,
   "id": "5d55fcbf",
   "metadata": {},
   "outputs": [],
   "source": [
    "# 다른 방법1\n",
    "\n",
    "n = int(input(\"합계를 구할 숫자 입력: \"))\n",
    "odd_sum = sum([ i for i in range(1,n+1) if i % 2 == 1])\n",
    "print(f'1 ~ {n}까지 홀수의 합은: {odd_sum}')\n"
   ]
  },
  {
   "cell_type": "code",
   "execution_count": null,
   "id": "3c018896",
   "metadata": {},
   "outputs": [],
   "source": []
  },
  {
   "cell_type": "code",
   "execution_count": null,
   "id": "d820c0a8",
   "metadata": {},
   "outputs": [],
   "source": [
    "n = int(input('몇단을 출력할까요?: '))\n",
    "\n",
    "for i in range(1,10,1):\n",
    "    nn = n*i\n",
    "    print(f'{n} * {i} = {nn}')"
   ]
  },
  {
   "cell_type": "code",
   "execution_count": null,
   "id": "cec804aa",
   "metadata": {},
   "outputs": [],
   "source": [
    "for n in range (2,10,1,):\n",
    "    print('#%d 단' % n, end = '')\n",
    "print()  \n",
    "for i in range(1,10):\n",
    "    for k in range(2,10):\n",
    "        print(f'{k} * {i} = {k*i}' , end='  ')\n",
    "    print()\n"
   ]
  },
  {
   "cell_type": "markdown",
   "id": "c4e4bd5f",
   "metadata": {},
   "source": [
    "### 실습문제: 3행 4열 숫자 배열 출력"
   ]
  },
  {
   "cell_type": "code",
   "execution_count": 17,
   "id": "8792366c",
   "metadata": {
    "scrolled": false
   },
   "outputs": [
    {
     "name": "stdout",
     "output_type": "stream",
     "text": [
      " 1  2  3  4 \n",
      " 5  6  7  8 \n",
      " 9 10 11 12 \n"
     ]
    }
   ],
   "source": [
    "v = 1\n",
    "for n in range (3):\n",
    "    for i in range(4):\n",
    "        print(f'{v:2}',end = ' ')\n",
    "        v += 1  \n",
    "    print()"
   ]
  },
  {
   "cell_type": "code",
   "execution_count": null,
   "id": "54af3674",
   "metadata": {},
   "outputs": [],
   "source": [
    "for n in range (3):  #행  \n",
    "    v = 0 \n",
    "    for i in range(4):  # 열 \n",
    "        print(f'{v+1+n:2}',end = ' ')\n",
    "        v += 3 \n",
    "    print()"
   ]
  },
  {
   "cell_type": "code",
   "execution_count": null,
   "id": "57d4dcaa",
   "metadata": {},
   "outputs": [],
   "source": [
    "import random \n",
    "\n",
    "d1, d2, d3, d4, d5, d6 = 0,0,0,0,0,0\n",
    "\n",
    "for i in range(1,101,1):\n",
    "    a = random.randint(1,6)\n",
    "    \n",
    "    if a == 1: \n",
    "        d1 += 1\n",
    "    if a == 2: \n",
    "        d2 += 1\n",
    "    if a == 3: \n",
    "        d3 += 1\n",
    "    if a == 4:\n",
    "        d4 += 1 \n",
    "    if a == 5: \n",
    "        d5 += 1 \n",
    "    if a == 6: \n",
    "        d6 += 1 \n",
    "print(f'주사위 숫자별 개수: ')\n",
    "print(f'D1[{d1}]D2[{d2}]D3[{d3}]D4[{d4}]D5[{d5}]D6[{d6}]')\n",
    "\n",
    "max_d, max_v = 1, d1\n",
    "if max_v < d2:\n",
    "    max_d = 2\n",
    "    max_v = d2\n",
    "elif max_v == d2:\n",
    "    max_d = 2\n",
    "    \n",
    "if max_v < d3:\n",
    "    max_d = 3\n",
    "    max_v = d3\n",
    "elif max_v == d3:\n",
    "    max_d = 3\n",
    "    \n",
    "if max_v < d4:\n",
    "    max_d = 4\n",
    "    max_v = d4\n",
    "elif max_v == d4:\n",
    "    max_d = 4\n",
    "    \n",
    "if max_v < d5:\n",
    "    max_d = 5\n",
    "    max_v = d5\n",
    "elif max_v == d5:\n",
    "    max_d = 5\n",
    "    \n",
    "if max_v < d6:\n",
    "    max_d = 6\n",
    "    max_v = d6\n",
    "elif max_v == d6:\n",
    "    max_d = 6\n",
    "    \n",
    "print()\n",
    "\n",
    "print(f'가장 많이 나온 주사위 숫자: {max_v}')\n",
    "\n"
   ]
  },
  {
   "cell_type": "code",
   "execution_count": null,
   "id": "b4be95b3",
   "metadata": {},
   "outputs": [],
   "source": [
    "# 중복이 없다는 가정\n",
    "import random\n",
    "d1,d2,d3,d4,d5,d6=0,0,0,0,0,0\n",
    "for i in range(100):\n",
    "    x = random.randint(1,6)\n",
    "    if x == 1: d1 += 1\n",
    "    if x == 2: d2 += 1\n",
    "    if x == 3: d3 += 1\n",
    "    if x == 4: d4 += 1\n",
    "    if x == 5: d5 += 1\n",
    "    if x == 6: d6 += 1\n",
    "max_v, max_d = d1, 1\n",
    "if max_v < d2:\n",
    "    max_v = d2\n",
    "    max_d = 2\n",
    "if max_v < d3:\n",
    "    max_v = d3\n",
    "    max_d = 3\n",
    "if max_v < d4:\n",
    "    max_v = d4\n",
    "    max_d = 4\n",
    "if max_v < d5:\n",
    "    max_v = d5\n",
    "    max_d = 5\n",
    "if max_v < d6:\n",
    "    max_v = d6\n",
    "    max_d = 6\n",
    "print(f'주사위 숫자별 개수: D1[{d1}],D2[{d2}],D3[{d3}],D4[{d4}],D5[{d5}],D6[{d6}]')\n",
    "print(f'\\n가장 많이 나온 주사위 숫자: {max_d}, 횟수{max_v}')\n"
   ]
  },
  {
   "cell_type": "code",
   "execution_count": null,
   "id": "accdfa3d",
   "metadata": {
    "scrolled": true
   },
   "outputs": [],
   "source": [
    "i = 0 \n",
    "while i < 3:\n",
    "    print(\"%d : 안녕하세요? while 문을 공부 중입니다. ^^\" %i)\n",
    "    i = i + 1\n"
   ]
  },
  {
   "cell_type": "code",
   "execution_count": null,
   "id": "cc5ab35e",
   "metadata": {},
   "outputs": [],
   "source": [
    "hap = 0 \n",
    "for i in range(1,101):\n",
    "    hap += i\n",
    "print (hap)"
   ]
  },
  {
   "cell_type": "code",
   "execution_count": null,
   "id": "a6c90b68",
   "metadata": {},
   "outputs": [],
   "source": [
    "hap, i = 0, 1\n",
    "\n",
    "while i < 101:\n",
    "    hap += i \n",
    "    i += 1 \n",
    "print(hap)\n",
    "    "
   ]
  },
  {
   "cell_type": "code",
   "execution_count": null,
   "id": "41def73c",
   "metadata": {},
   "outputs": [],
   "source": [
    "hap, i = 0,1\n",
    "while True:\n",
    "    hap += i \n",
    "    i += 1 \n",
    "    if i > 100:\n",
    "        \n",
    "print(hap)"
   ]
  },
  {
   "cell_type": "code",
   "execution_count": null,
   "id": "37731852",
   "metadata": {},
   "outputs": [],
   "source": [
    "treeHit = 1\n",
    "while treeHit < 11:\n",
    "    print('나무를 %d번 찍었습니다.' %treeHit) \n",
    "    treeHit += 1 \n",
    "print('나무 넘어 갑니다~')"
   ]
  },
  {
   "cell_type": "code",
   "execution_count": null,
   "id": "52a878ef",
   "metadata": {},
   "outputs": [],
   "source": [
    "prompt = '''\n",
    "        1. Add      2. Del      3. Modify      4. Quit\n",
    "        Enter number:  '''\n",
    "\n",
    "while True:\n",
    "    num = input(prompt)\n",
    "    print (f'입력한 숫자는 [{num}]')\n",
    "\n",
    "    if num == '4':\n",
    "        break\n",
    "        \n",
    "print('프로그램을 종료합니다.')\n"
   ]
  },
  {
   "cell_type": "code",
   "execution_count": 1,
   "id": "38648fbc",
   "metadata": {},
   "outputs": [
    {
     "name": "stdout",
     "output_type": "stream",
     "text": [
      "숫자를 여러개 입력하세요: 345\n",
      "★★★★★★\n",
      "★★★★★★★★\n",
      "★★★★★★★★★★\n"
     ]
    }
   ],
   "source": [
    "num = input('숫자를 여러개 입력하세요: ')\n",
    "\n",
    "i = 0 \n",
    "while i!= len(num):\n",
    "    print('\\u2605'* 2 *int(num[i]))\n",
    "    i += 1"
   ]
  },
  {
   "cell_type": "code",
   "execution_count": null,
   "id": "5e82a345",
   "metadata": {},
   "outputs": [],
   "source": [
    "length = int(input('공의 높이를 입력하세요(meter): '))\n",
    "meter, cnt = length, 0 \n",
    "\n",
    "while True: \n",
    "    print(f'{meter}미터 입니다.')\n",
    "    meter /= 2\n",
    "    cnt += 1 \n",
    "    \n",
    "    if meter < 0.00001:\n",
    "        break \n",
    "        \n",
    "print(f'30 위치에서 공의 튕긴 횟수는 총{cnt}번 입니다.')"
   ]
  },
  {
   "cell_type": "code",
   "execution_count": 13,
   "id": "9dc480bd",
   "metadata": {},
   "outputs": [
    {
     "name": "stdout",
     "output_type": "stream",
     "text": [
      "--------------------------------\n",
      "* 비밀의 숫자가 지정되었습니다\n",
      "--------------------------------\n",
      "숫자를 입력하세요: 50\n",
      "비밀의 수는 더 작은 수 입니다.\n",
      "숫자를 입력하세요: 40\n",
      "비밀의 수는 더 작은 수 입니다.\n",
      "숫자를 입력하세요: 20\n",
      "비밀의 수는 더 큰 수 입니다.\n",
      "숫자를 입력하세요: 30\n",
      "비밀의 수는 더 작은 수 입니다.\n",
      "숫자를 입력하세요: 28\n",
      "비밀의 수는 더 작은 수 입니다.\n",
      "숫자를 입력하세요: 24\n",
      "비밀의 수는 더 큰 수 입니다.\n",
      "숫자를 입력하세요: 25\n",
      "비밀의 수는 더 큰 수 입니다.\n",
      "숫자를 입력하세요: 27\n",
      "정답 입니다\n",
      "--------------------------------\n",
      "비밀의 숫자: 27\n",
      "정답 입니다: 8\n"
     ]
    }
   ],
   "source": [
    "import random \n",
    "pe = ('''--------------------------------\n",
    "* 비밀의 숫자가 지정되었습니다\n",
    "--------------------------------''')\n",
    "print(pe)\n",
    "a = random.randint(1,100)\n",
    "count = 0 \n",
    "\n",
    "while True:\n",
    "    num = int(input('숫자를 입력하세요: '))\n",
    "    count += 1 \n",
    "    if num > a: \n",
    "        print('비밀의 수는 더 작은 수 입니다.')\n",
    "    elif num < a:\n",
    "        print('비밀의 수는 더 큰 수 입니다.')\n",
    "    elif num == a:\n",
    "        print('정답 입니다')\n",
    "        break \n",
    "print('--------------------------------')\n",
    "\n",
    "print(f'비밀의 숫자: {a}')\n",
    "print(f'정답 입니다: {count}')        "
   ]
  },
  {
   "cell_type": "markdown",
   "id": "38987f74",
   "metadata": {},
   "source": [
    "### enumerate() : index와 value 함께 출력"
   ]
  },
  {
   "cell_type": "code",
   "execution_count": 15,
   "id": "da46d1a7",
   "metadata": {},
   "outputs": [
    {
     "name": "stdout",
     "output_type": "stream",
     "text": [
      "idx[0] val[2]\n",
      "idx[1] val[3]\n",
      "idx[2] val[4]\n",
      "idx[3] val[5]\n",
      "idx[4] val[6]\n"
     ]
    }
   ],
   "source": [
    "mylist = [2,3,4,5,6]\n",
    "for idx, val in enumerate(mylist):\n",
    "    print(f'idx[{idx}] val[{val}]')"
   ]
  },
  {
   "cell_type": "code",
   "execution_count": 16,
   "id": "0874df92",
   "metadata": {},
   "outputs": [
    {
     "name": "stdout",
     "output_type": "stream",
     "text": [
      "idx[10] val[2]\n",
      "idx[11] val[3]\n",
      "idx[12] val[4]\n",
      "idx[13] val[5]\n",
      "idx[14] val[6]\n"
     ]
    }
   ],
   "source": [
    "mylist = [2,3,4,5,6]\n",
    "for idx, val in enumerate(mylist, 10): # enumerate(mylist, 10) 이런 형식으로 인덱스 순서를 지정해 줄 수 있다. \n",
    "    print(f'idx[{idx}] val[{val}]')"
   ]
  },
  {
   "cell_type": "code",
   "execution_count": null,
   "id": "929fac37",
   "metadata": {},
   "outputs": [],
   "source": []
  }
 ],
 "metadata": {
  "kernelspec": {
   "display_name": "Python 3 (ipykernel)",
   "language": "python",
   "name": "python3"
  },
  "language_info": {
   "codemirror_mode": {
    "name": "ipython",
    "version": 3
   },
   "file_extension": ".py",
   "mimetype": "text/x-python",
   "name": "python",
   "nbconvert_exporter": "python",
   "pygments_lexer": "ipython3",
   "version": "3.8.10"
  }
 },
 "nbformat": 4,
 "nbformat_minor": 5
}
