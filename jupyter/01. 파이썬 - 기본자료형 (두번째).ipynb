{
 "cells": [
  {
   "cell_type": "markdown",
   "id": "e4e1b323",
   "metadata": {},
   "source": [
    "### 문자열 인덱싱"
   ]
  },
  {
   "cell_type": "code",
   "execution_count": null,
   "id": "94c8b500",
   "metadata": {},
   "outputs": [],
   "source": [
    "\"I eat {0} appels\".format(100)"
   ]
  },
  {
   "cell_type": "code",
   "execution_count": null,
   "id": "8602f755",
   "metadata": {},
   "outputs": [],
   "source": [
    "a = \"hobby\"\n",
    "\n",
    "a.count(\"y\")"
   ]
  },
  {
   "cell_type": "code",
   "execution_count": null,
   "id": "2d815bd5",
   "metadata": {
    "scrolled": true
   },
   "outputs": [],
   "source": [
    "s = input('문자열을 입력하세요:')\n",
    "\n",
    "s[::-1]"
   ]
  },
  {
   "cell_type": "markdown",
   "id": "c5ef1158",
   "metadata": {},
   "source": [
    "### 믄지열 관련 함수 \n",
    "split()함수:"
   ]
  },
  {
   "cell_type": "code",
   "execution_count": null,
   "id": "18391032",
   "metadata": {},
   "outputs": [],
   "source": [
    "a = input('파일을 입력하세요: ')\n",
    "\n",
    "print('파일:' , a)\n",
    "print('파일명: ', (a[0:4]),',확장자: ', (a[5:7]))"
   ]
  },
  {
   "cell_type": "code",
   "execution_count": null,
   "id": "fc387a1f",
   "metadata": {},
   "outputs": [],
   "source": [
    "# 방법1\n",
    "\n",
    "a = input('파일을 입력하세요:')\n",
    "x,y=a.split('.')\n",
    "print('파일:',a)\n",
    "print(f'파일명: {x}, 확장자: {y}')"
   ]
  },
  {
   "cell_type": "code",
   "execution_count": null,
   "id": "3747dc75",
   "metadata": {},
   "outputs": [],
   "source": [
    "# 방법 2\n",
    "a = input('파일을 입력하세요:')\n",
    "\n",
    "b = a.split('.')\n",
    "\n",
    "print(f'파일명: {b[0]}, 확장자: {b[1]}')"
   ]
  },
  {
   "cell_type": "code",
   "execution_count": null,
   "id": "4872a920",
   "metadata": {},
   "outputs": [],
   "source": [
    "# 방법3\n",
    "\n",
    "a= input('파일을 입력하세요:')\n",
    "n = a.find('.')\n",
    "print(f\"파일: {a}\")\n",
    "print(\"파일명 :{0}, 확장자:{1}\".format(a[0:n],a[n:]))"
   ]
  },
  {
   "cell_type": "code",
   "execution_count": null,
   "id": "5486ae35",
   "metadata": {
    "scrolled": true
   },
   "outputs": [],
   "source": [
    "import datetime  #datetime(모듈) 이라는 라이브러리를 가져오는 것(파이썬 사이트에 datetime.py 사이트가 존재)\n",
    "\n",
    "now = str(datetime.datetime.now())\n",
    "\n",
    "print(now)\n",
    "year = now[0:4]\n",
    "moth = now[5:7]\n",
    "day = now[8:10]\n",
    "hour = now[11:13]\n",
    "min = now[14:16]\n",
    "sec = now[17:19]\n",
    "\n",
    "print(f'지금 시각은 {now[0:4]}년,{now[5:7]}월,{now[8:10]}일, {now[11:13]}시,{now[14:16]}분,{now[17:19]}초 입니다.')"
   ]
  },
  {
   "cell_type": "code",
   "execution_count": null,
   "id": "37ac195a",
   "metadata": {},
   "outputs": [],
   "source": [
    "import time \n",
    "\n",
    "time.time() \n",
    "time.localtime()"
   ]
  },
  {
   "cell_type": "code",
   "execution_count": null,
   "id": "db2e6091",
   "metadata": {},
   "outputs": [],
   "source": [
    "import datetime  \n",
    "\n",
    "now = datetime.datetime.now()\n",
    "\n",
    "#문자열로 슬라이싱\n",
    "s_now = str(datetime.datetime.now())\n",
    "year = s_now[0:4]\n",
    "print(f'지금 시각은 {year}년')"
   ]
  },
  {
   "cell_type": "code",
   "execution_count": null,
   "id": "73634f91",
   "metadata": {},
   "outputs": [],
   "source": [
    "import datetime  \n",
    "\n",
    "#오브젝트에서 함수이용해서 \n",
    "now = datetime.datetime.now()\n",
    "now.strftime('%y-%m-%d %H:%M:%S')"
   ]
  },
  {
   "cell_type": "markdown",
   "id": "88720783",
   "metadata": {},
   "source": [
    "### 실습문제: 웹 크롤링: 환율정보 가져오기 "
   ]
  },
  {
   "cell_type": "code",
   "execution_count": null,
   "id": "bacb2e2f",
   "metadata": {},
   "outputs": [],
   "source": [
    "\n",
    "\n",
    "import urllib.request\n",
    "import ssl\n",
    "context = ssl._create_unverified_context()\n",
    "#환율정보 페이지 불러오기\n",
    "print(\"[환율정보 불러오기]\")\n",
    "URL = \"https://search.naver.com/search.naver?where=nexearch&sm=top_hty&fbm=1&ie=utf8&query=%ED%99%98%EC%9C%A8\"\n",
    "page = urllib.request.urlopen(URL, context=context)\n",
    "text = page.read().decode(\"utf8\")  # 해당 페이지의 소스코드\n",
    "\n",
    "#print(text)\n",
    "\n",
    "#환율정보 가져오기: 기준시간\n",
    "searchText = 'class=\"grp_info\"> <em>'\n",
    "where      = text.find(searchText)  #소스코드에서 해당 문자열의 시작위치\n",
    "targetInfo = text[where+len(searchText):where+len(searchText)+16]\n",
    "print(f'-환율기준시간: {targetInfo}')\n",
    "#환율정보 가져오기: 달러\n",
    "searchText = '<span>미국 <em>USD</em></span></a></th> <td><span>'\n",
    "where      = text.find(searchText)\n",
    "targetInfo = text[where+len(searchText):where+len(searchText)+8]\n",
    "print(f'-달러: {targetInfo}')\n",
    "#환율정보 가져오기: 위안\n",
    "searchText = '<span>중국 <em>CNY</em></span></a></th> <td><span>'\n",
    "where      = text.find(searchText)\n",
    "targetInfo = text[where+len(searchText):where+len(searchText)+6]\n",
    "print(f'-위안: {targetInfo}')\n",
    "#환율정보 가져오기:유로화\n",
    "searchText = '<span>유럽연합 <em>EUR</em></span></a></th> <td><span>'\n",
    "where      = text.find(searchText)\n",
    "targetInfo = text[where+len(searchText):where+len(searchText)+8]\n",
    "print(f'-유로: {targetInfo}')"
   ]
  },
  {
   "cell_type": "markdown",
   "id": "a4ac337e",
   "metadata": {},
   "source": [
    "### 파이썬 연산자"
   ]
  },
  {
   "cell_type": "code",
   "execution_count": null,
   "id": "c29c45fb",
   "metadata": {},
   "outputs": [],
   "source": [
    "a = int(input(\"시프트할 숫자는?:\"))\n",
    "loop = int(input(\"출력할 횟수는?:\"))\n",
    "\n",
    "for i in range(loop):\n",
    "    print(\"%d << %d = %d\" % (a, i+1, a<< i+1 ))\n",
    "\n",
    "for i in range(loop):\n",
    "    print(\"%d >> %d = %d\" % (a, i+1, a >> i+1))\n",
    "    "
   ]
  },
  {
   "cell_type": "code",
   "execution_count": 1,
   "id": "ff1866a9",
   "metadata": {},
   "outputs": [
    {
     "name": "stdout",
     "output_type": "stream",
     "text": [
      "동전으로 교환할 금액을 입력하세요: 4321\n",
      "500원짜리 ==>: 8개\n",
      "100원짜리 ==>: 3개\n",
      "50원짜리 ==>: 0개\n",
      "10원짜리 ==>: 2개\n",
      "잔돈 : 1원\n"
     ]
    }
   ],
   "source": [
    "a = int(input(\"동전으로 교환할 금액을 입력하세요: \"))\n",
    "\n",
    "c_1 = a//500 \n",
    "a = a%500\n",
    "c_2 = a//100\n",
    "a = a%100\n",
    "c_3 = a//50\n",
    "a = a%50\n",
    "c_4 = a//10\n",
    "a = a%10 \n",
    "\n",
    "print(f'500원짜리 ==>: {c_1}개')\n",
    "print(f'100원짜리 ==>: {c_2}개')\n",
    "print(f'50원짜리 ==>: {c_3}개')\n",
    "print(f'10원짜리 ==>: {c_4}개')\n",
    "print(f'잔돈 : {a}원')"
   ]
  },
  {
   "cell_type": "code",
   "execution_count": 5,
   "id": "9687ebc1",
   "metadata": {},
   "outputs": [
    {
     "name": "stdout",
     "output_type": "stream",
     "text": [
      "교환할 돈은 얼마?657890\n",
      "지폐: 50000원 13장,10000원 0장, 5000원 1장, 1000원 2장\n",
      "동전: 500원 1개,100원 3개,50원 1개,10원 4개\n",
      "잔돈 : 0원\n"
     ]
    }
   ],
   "source": [
    "a = int(input(\"교환할 돈은 얼마?\"))\n",
    "\n",
    "c_1 = a//50000\n",
    "a = a%50000\n",
    "c_2 = a//10000\n",
    "a = a%10000\n",
    "c_3 = a//5000\n",
    "a = a%5000\n",
    "c_4 = a//1000\n",
    "a = a%1000 \n",
    "c_5 = a//500 \n",
    "a = a%500\n",
    "c_6 = a//100\n",
    "a = a%100\n",
    "c_7 = a//50\n",
    "a = a%50\n",
    "c_8 = a//10\n",
    "a = a%10 \n",
    "\n",
    "print(f'지폐: 50000원 {c_1}장,10000원 {c_2}장, 5000원 {c_3}장, 1000원 {c_4}장' )\n",
    "print(f'동전: 500원 {c_5}개,100원 {c_6}개,50원 {c_7}개,10원 {c_8}개')\n",
    "print(f'잔돈 : {a}원')"
   ]
  }
 ],
 "metadata": {
  "kernelspec": {
   "display_name": "Python 3 (ipykernel)",
   "language": "python",
   "name": "python3"
  },
  "language_info": {
   "codemirror_mode": {
    "name": "ipython",
    "version": 3
   },
   "file_extension": ".py",
   "mimetype": "text/x-python",
   "name": "python",
   "nbconvert_exporter": "python",
   "pygments_lexer": "ipython3",
   "version": "3.8.10"
  }
 },
 "nbformat": 4,
 "nbformat_minor": 5
}
