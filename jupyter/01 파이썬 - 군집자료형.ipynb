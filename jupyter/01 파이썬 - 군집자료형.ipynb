{
 "cells": [
  {
   "cell_type": "markdown",
   "id": "e056e51a",
   "metadata": {},
   "source": [
    "### 1. 리스트: List"
   ]
  },
  {
   "cell_type": "code",
   "execution_count": null,
   "id": "ea166e1f",
   "metadata": {},
   "outputs": [],
   "source": [
    "# 리스트 생성\n",
    "myList = list()  # f[]\n",
    "\n",
    "# 리스트에 데이터 넣기\n",
    "\n",
    "for i in range(1,11):\n",
    "    myList.append(i)  #리스트에 데이터 넣기\n",
    "    \n",
    "print(myList)"
   ]
  },
  {
   "cell_type": "code",
   "execution_count": null,
   "id": "ad342d0f",
   "metadata": {},
   "outputs": [],
   "source": [
    "myList = list(range(1,11))\n",
    "print(myList)"
   ]
  },
  {
   "cell_type": "code",
   "execution_count": null,
   "id": "af89eef6",
   "metadata": {},
   "outputs": [],
   "source": [
    "myList = [range(1,11)] \n",
    "print(myList)"
   ]
  },
  {
   "cell_type": "markdown",
   "id": "e645ee1c",
   "metadata": {},
   "source": [
    "### 리스트 요소에 접근"
   ]
  },
  {
   "cell_type": "code",
   "execution_count": null,
   "id": "1ed94f62",
   "metadata": {},
   "outputs": [],
   "source": [
    "# 인덱싱 & 슬라이싱\n",
    "colors = ['red','green','blue','white']\n",
    "print(colors[2])"
   ]
  },
  {
   "cell_type": "code",
   "execution_count": null,
   "id": "9b48954c",
   "metadata": {},
   "outputs": [],
   "source": [
    "numbers = [[10,20,30],[40,50,60,70]]\n",
    "\n",
    "print(numbers [1][0:3])"
   ]
  },
  {
   "cell_type": "code",
   "execution_count": null,
   "id": "06c7c579",
   "metadata": {},
   "outputs": [],
   "source": [
    "# 2차원 리스트 만들기 \n",
    "\n",
    "mylist = list(range(1,13))\n",
    "\n",
    "print(mylist[0:4])\n",
    "print(mylist[4:8])\n",
    "print(mylist[8:13])"
   ]
  },
  {
   "cell_type": "code",
   "execution_count": null,
   "id": "04d6f785",
   "metadata": {},
   "outputs": [],
   "source": [
    "threeFour = [ [0] * 4 for _ in range(3) ]\n",
    "\n",
    "num = 1\n",
    "for i in range(3):\n",
    "    for j in range(4):\n",
    "        threeFour[i][j] = num\n",
    "        num += 1\n",
    "for i in threeFour:\n",
    "    for j in i:\n",
    "        print(f'{j:>2d}', end=' ')\n",
    "    print()"
   ]
  },
  {
   "cell_type": "code",
   "execution_count": null,
   "id": "289307f1",
   "metadata": {},
   "outputs": [],
   "source": [
    "mylist = list()\n",
    "for i in range(1,201):\n",
    "    if i % 3 == 0:\n",
    "        mylist.append(i)\n",
    "print(mylist)"
   ]
  },
  {
   "cell_type": "code",
   "execution_count": null,
   "id": "514026a7",
   "metadata": {},
   "outputs": [],
   "source": [
    "mylist = [i for i in range(1,201) if i % 3 == 0 ]\n",
    "print(mylist)"
   ]
  },
  {
   "cell_type": "code",
   "execution_count": null,
   "id": "73c027b2",
   "metadata": {},
   "outputs": [],
   "source": [
    "mylist = [i*2 for i in range(1,201) if i % 3 == 0 ]\n",
    "print(mylist)"
   ]
  },
  {
   "cell_type": "code",
   "execution_count": null,
   "id": "ff939f8e",
   "metadata": {},
   "outputs": [],
   "source": [
    "list = ['BTS', '트와이스','블랙핑크','뉴이스트']\n",
    "num = []\n",
    "\n",
    "for idx, value in enumerate(list):\n",
    "    tmp = int(input(f'{value}의 성적 입력: ' ))   #int\n",
    "    num.append(tmp)\n",
    "# print(num)\n",
    "print('-'*30)\n",
    "print('아이돌 성적 결과')\n",
    "print('-'*30)\n",
    "\n",
    "result = ''\n",
    "for i in range(len(list)):\n",
    "    if num[i] >= 80:result = '수료'\n",
    "    else: result = '미수료'\n",
    "    \n",
    "    print(f'{list[i]}의 성적은 {num[i]}점: {result}') "
   ]
  },
  {
   "cell_type": "code",
   "execution_count": null,
   "id": "6381ffb6",
   "metadata": {},
   "outputs": [],
   "source": [
    "# 다른방법 \n",
    "idols = ['BTS', '트와이스', '블랙핑크', '뉴이스트']\n",
    "scores = [int(input(f\"'{idol}'의 성적 입력:\")) for idol in idols]\n",
    "print(\"\"\"-----------------------------------------\n",
    "아이돌 성적 결과\n",
    "-----------------------------------------\"\"\")\n",
    "\n",
    "result=[\"PASS\" if score >=80 else \"FAIL\" for score in scores ]\n",
    "\n",
    "for i, v in enumerate(idols):\n",
    "    print(f\"'{v}'의 성적은 {scores[i]}점: {result[i]}\")\n",
    "    "
   ]
  },
  {
   "cell_type": "code",
   "execution_count": null,
   "id": "28713631",
   "metadata": {},
   "outputs": [],
   "source": [
    "start = input('YYYYMMDD:')\n",
    "print('-'*20)\n",
    "\n",
    "yyyy = int(start[0:4])\n",
    "MM   = int(start[4:6])\n",
    "DD   = int(start[6:])\n",
    "\n",
    "if yyyy % 400 == 0 or (yyyy % 100 != 0 and yyyy % 4 == 0):\n",
    "    dates[1] = 29\n",
    "    \n",
    "days = 0 \n",
    "\n",
    "for i in range(MM-1):\n",
    "    days += dates[i]\n",
    "days += DD\n",
    "    \n",
    "print(f'{yyyy}/1/1 ~ {yyyy}/{MM}/{DD}: {days}')\n",
    "\n"
   ]
  },
  {
   "cell_type": "code",
   "execution_count": null,
   "id": "a6c93619",
   "metadata": {},
   "outputs": [],
   "source": [
    "import datetime\n",
    "\n",
    "start = input('start YYYYMMDD: ')\n",
    "end  = input('end YYYYMMDD: ')\n",
    "sday = datetime.datetime.strptime(start,'%Y%m%d')\n",
    "nday = datetime.datetime.strptime(end,'%Y%m%d')\n",
    "\n",
    "print(f'{start}~{end}까지의 소요일은 {(nday - sday).days } 일')"
   ]
  },
  {
   "cell_type": "markdown",
   "id": "41dfa0a4",
   "metadata": {},
   "source": [
    "# 2. 튜플(Tuple)"
   ]
  },
  {
   "cell_type": "code",
   "execution_count": null,
   "id": "67090a77",
   "metadata": {
    "scrolled": true
   },
   "outputs": [],
   "source": [
    "# list와 달리 데이터 변형이 어려워 이 특징을 이용"
   ]
  },
  {
   "cell_type": "code",
   "execution_count": null,
   "id": "15efb48e",
   "metadata": {},
   "outputs": [],
   "source": [
    "a = ('a','b','c',4,5)\n",
    "type (a)"
   ]
  },
  {
   "cell_type": "code",
   "execution_count": null,
   "id": "fdbfa9cc",
   "metadata": {},
   "outputs": [],
   "source": [
    "a = 'a',\n",
    "print(type (a))"
   ]
  },
  {
   "cell_type": "code",
   "execution_count": null,
   "id": "428e5ab9",
   "metadata": {},
   "outputs": [],
   "source": [
    "menu = ('짜장면','우동','짬뽕','볶음밥')\n",
    "\n",
    "menu[1] = '유산슬'"
   ]
  },
  {
   "cell_type": "code",
   "execution_count": null,
   "id": "31f007c8",
   "metadata": {},
   "outputs": [],
   "source": [
    "L = ['a','b','c','d']\n",
    "T = ('a','b','c','d')\n",
    "\n",
    "import sys\n",
    "print(sys.getsizeof(L))\n",
    "print(sys.getsizeof(T))"
   ]
  },
  {
   "cell_type": "code",
   "execution_count": null,
   "id": "f19bb160",
   "metadata": {},
   "outputs": [],
   "source": [
    "%timeit L = ['a','b','c','d','e']"
   ]
  },
  {
   "cell_type": "code",
   "execution_count": null,
   "id": "e80e4a89",
   "metadata": {},
   "outputs": [],
   "source": [
    "%timeit T = ('a','b','c','d','e')"
   ]
  },
  {
   "cell_type": "markdown",
   "id": "7f20c1f5",
   "metadata": {},
   "source": [
    "# 딕셔너리"
   ]
  },
  {
   "cell_type": "code",
   "execution_count": null,
   "id": "9699bd29",
   "metadata": {},
   "outputs": [],
   "source": [
    "# key 중복이 안되고, 중복된 값 중 마지막에 입력된 값이 결과로 나온다. "
   ]
  },
  {
   "cell_type": "code",
   "execution_count": null,
   "id": "99e7f171",
   "metadata": {},
   "outputs": [],
   "source": [
    "a = {'name':'pey', 'phone':'011199'}\n",
    "a"
   ]
  },
  {
   "cell_type": "code",
   "execution_count": null,
   "id": "bee68113",
   "metadata": {},
   "outputs": [],
   "source": [
    "a = dict(name = 'pay', phone ='01199') # tuple에서 dict를 사용할 때는 :이 아닌 =을 사용해야 한다. \n",
    "a "
   ]
  },
  {
   "cell_type": "code",
   "execution_count": null,
   "id": "96159141",
   "metadata": {},
   "outputs": [],
   "source": [
    "# 딕셔너리 키 요소 추가 및 삭제 \n",
    "\n",
    "name = '박지민'\n",
    "scores = {'Kor': 90, 'eng':89, 'math':95,'science':88 }\n",
    "print (scores)\n",
    "\n",
    "scores['music'] = 100 # music add \n",
    "print (scores)\n",
    "\n",
    "scores['kor'] = 80 # koe add \n",
    "print (scores)\n",
    "\n",
    "del scores['science']  # science del\n",
    "print (scores)\n"
   ]
  },
  {
   "cell_type": "code",
   "execution_count": null,
   "id": "c69e2afc",
   "metadata": {},
   "outputs": [],
   "source": [
    "#  딕셔너리 for 문 사용 \n",
    "for k in scores:\n",
    "    print(f'key[{k}], value[{scores[k]}]')"
   ]
  },
  {
   "cell_type": "code",
   "execution_count": null,
   "id": "8824b9a1",
   "metadata": {},
   "outputs": [],
   "source": [
    "socres = {'Kor': 90, 'eng': 89, 'math': 95, 'music': 100, 'kor': 80}\n",
    "print(socres.keys())\n",
    "for k in scores.keys():\n",
    "    print(k)"
   ]
  },
  {
   "cell_type": "code",
   "execution_count": null,
   "id": "7eb184e8",
   "metadata": {},
   "outputs": [],
   "source": [
    "print(socres.values())\n",
    "for k in scores.values():\n",
    "    print(k)"
   ]
  },
  {
   "cell_type": "code",
   "execution_count": null,
   "id": "083e5c72",
   "metadata": {},
   "outputs": [],
   "source": [
    "# 두 딕셔너리 합치기 \n",
    "scores = {'Kor': 90, 'eng': 89, 'math': 95}\n",
    "arts = {'music': 100, 'dance': 90}\n",
    "scores.update(arts)\n",
    "scores"
   ]
  },
  {
   "cell_type": "markdown",
   "id": "58ae9458",
   "metadata": {},
   "source": [
    "# 실습문제"
   ]
  },
  {
   "cell_type": "code",
   "execution_count": null,
   "id": "d3655e92",
   "metadata": {},
   "outputs": [],
   "source": [
    "names = ['BTS', '트와이스','블랙핑크','뉴이스트']\n",
    "idols = {}\n",
    "\n",
    "for name in names:\n",
    "    idols[name] = int(input(f'{name}의 성적은: '))\n",
    "\n",
    "hap = 0 \n",
    "for key in idols:\n",
    "    hap = hap + idols[key]\n",
    "    \n",
    "avg = hap / len(idols)\n",
    "\n",
    "print('합계: %d, 평균: %.2f' %(hap, avg))"
   ]
  },
  {
   "cell_type": "code",
   "execution_count": null,
   "id": "8d2092d5",
   "metadata": {},
   "outputs": [],
   "source": [
    "names = ['BTS', '트와이스','블랙핑크','뉴이스트']\n",
    "idols = {}\n",
    "\n",
    "for name in names:\n",
    "    idols[name] = int(input(f'{name}의 성적은: '))\n",
    "\n",
    "print(f'합계:{sum(idols.values())}, 평균: {sum(idols.values())/ len(idols)}')\n"
   ]
  },
  {
   "cell_type": "code",
   "execution_count": 2,
   "id": "16819269",
   "metadata": {},
   "outputs": [
    {
     "name": "stdout",
     "output_type": "stream",
     "text": [
      "---- 선택메뉴 ----\n",
      "1. 단어 등록 \n",
      "2. 단어 검색\n",
      "3. 모든 단어 보기\n",
      "0. 종료하기 \n",
      "--------------------------------------------- 선택: 1\n",
      "새 단어: apple\n",
      "apple의 뜻: 사과\n",
      "---- 선택메뉴 ----\n",
      "1. 단어 등록 \n",
      "2. 단어 검색\n",
      "3. 모든 단어 보기\n",
      "0. 종료하기 \n",
      "--------------------------------------------- 선택: 2\n",
      "검색할 단어: orange\n",
      "미등록 단어\n",
      "---- 선택메뉴 ----\n",
      "1. 단어 등록 \n",
      "2. 단어 검색\n",
      "3. 모든 단어 보기\n",
      "0. 종료하기 \n",
      "--------------------------------------------- 선택: 3\n",
      "apple:['사과']\n",
      "---- 선택메뉴 ----\n",
      "1. 단어 등록 \n",
      "2. 단어 검색\n",
      "3. 모든 단어 보기\n",
      "0. 종료하기 \n",
      "--------------------------------------------- 선택: 0\n",
      "프로그램을 종료합니다.\n"
     ]
    }
   ],
   "source": [
    "menu = '''---- 선택메뉴 ----\n",
    "1. 단어 등록 \n",
    "2. 단어 검색\n",
    "3. 모든 단어 보기\n",
    "0. 종료하기 \n",
    "--------------------------------------------- '''\n",
    "\n",
    "\n",
    "wordbook = dict() \n",
    "\n",
    "while True:\n",
    "    select = input(menu + '선택: ')\n",
    "    \n",
    "    if select == '0':\n",
    "        print('프로그램을 종료합니다.')\n",
    "        break \n",
    "    elif select == '1':\n",
    "        k = input('새 단어: ')\n",
    "        v = input(f'{k}의 뜻: ')\n",
    "        wordbook[k] = [v]\n",
    "    elif select == '2':\n",
    "        s = input('검색할 단어: ')\n",
    "        if s in wordbook:\n",
    "            v = input(f'{s} : {wordbook[s]}')\n",
    "        else:\n",
    "            print('미등록 단어')\n",
    "    elif select == '3':\n",
    "        for k,v in wordbook.items():\n",
    "            print(f'{k}:{v}')\n",
    "    else: \n",
    "        print('잘못 입력했습니다.')\n",
    "        \n",
    "        \n",
    "        \n",
    "        \n",
    "            "
   ]
  },
  {
   "cell_type": "code",
   "execution_count": 9,
   "id": "f4701344",
   "metadata": {},
   "outputs": [
    {
     "name": "stdout",
     "output_type": "stream",
     "text": [
      "---- 선택메뉴 ----\n",
      "1. 단어 등록 \n",
      "2. 단어 검색\n",
      "3. 모든 단어 보기\n",
      "4. 퀴즈 풀기 \n",
      "0. 종료하기 \n",
      "--------------------------------------------- 선택: 1\n",
      "새 단어: apple\n",
      "apple의 뜻: 사과\n",
      "---- 선택메뉴 ----\n",
      "1. 단어 등록 \n",
      "2. 단어 검색\n",
      "3. 모든 단어 보기\n",
      "4. 퀴즈 풀기 \n",
      "0. 종료하기 \n",
      "--------------------------------------------- 선택: 4\n",
      "['사과'](은)는 영어로?: apple\n",
      "--> 정답\n",
      "---- 선택메뉴 ----\n",
      "1. 단어 등록 \n",
      "2. 단어 검색\n",
      "3. 모든 단어 보기\n",
      "4. 퀴즈 풀기 \n",
      "0. 종료하기 \n",
      "--------------------------------------------- 선택: 0\n",
      "프로그램을 종료합니다.\n"
     ]
    }
   ],
   "source": [
    "menu = '''---- 선택메뉴 ----\n",
    "1. 단어 등록 \n",
    "2. 단어 검색\n",
    "3. 모든 단어 보기\n",
    "4. 퀴즈 풀기 \n",
    "0. 종료하기 \n",
    "--------------------------------------------- '''\n",
    "\n",
    "\n",
    "wordbook = dict() \n",
    "\n",
    "while True:\n",
    "    select = input(menu + '선택: ')\n",
    "    \n",
    "    if select == '0':\n",
    "        print('프로그램을 종료합니다.')\n",
    "        break \n",
    "    elif select == '1':\n",
    "        k = input('새 단어: ')\n",
    "        v = input(f'{k}의 뜻: ')\n",
    "        wordbook[k] = [v]\n",
    "    elif select == '2':\n",
    "        s = input('검색할 단어: ')\n",
    "        if s in wordbook:\n",
    "            v = input(f'{s} : {wordbook[s]}')\n",
    "        else:\n",
    "            print('미등록 단어')\n",
    "    elif select == '3':\n",
    "        for k,v in wordbook.items():\n",
    "            print(f'{k}:{v}')\n",
    "    elif select == '4':\n",
    "        import random\n",
    "        k, v = random.choice(tuple(wordbook.items()))\n",
    "        qe = input(f'{v}(은)는 영어로?: ')\n",
    "        if qe == k:\n",
    "            print('--> 정답')\n",
    "        else:\n",
    "            print('---> 오답')\n",
    "                   \n",
    "        \n",
    "    else: \n",
    "        print('잘못 입력했습니다.')"
   ]
  },
  {
   "cell_type": "code",
   "execution_count": 11,
   "id": "e6acd440",
   "metadata": {},
   "outputs": [
    {
     "name": "stdout",
     "output_type": "stream",
     "text": [
      "{'e', 'a', 'p', 'l'}\n",
      "<class 'set'>\n"
     ]
    }
   ],
   "source": [
    "a = set(\"apple\") # set도 순서가 없다. \n",
    "print(a)\n",
    "print(type(a))"
   ]
  },
  {
   "cell_type": "code",
   "execution_count": 12,
   "id": "9d518ad4",
   "metadata": {},
   "outputs": [
    {
     "name": "stdout",
     "output_type": "stream",
     "text": [
      "Help on class set in module builtins:\n",
      "\n",
      "class set(object)\n",
      " |  set() -> new empty set object\n",
      " |  set(iterable) -> new set object\n",
      " |  \n",
      " |  Build an unordered collection of unique elements.\n",
      " |  \n",
      " |  Methods defined here:\n",
      " |  \n",
      " |  __and__(self, value, /)\n",
      " |      Return self&value.\n",
      " |  \n",
      " |  __contains__(...)\n",
      " |      x.__contains__(y) <==> y in x.\n",
      " |  \n",
      " |  __eq__(self, value, /)\n",
      " |      Return self==value.\n",
      " |  \n",
      " |  __ge__(self, value, /)\n",
      " |      Return self>=value.\n",
      " |  \n",
      " |  __getattribute__(self, name, /)\n",
      " |      Return getattr(self, name).\n",
      " |  \n",
      " |  __gt__(self, value, /)\n",
      " |      Return self>value.\n",
      " |  \n",
      " |  __iand__(self, value, /)\n",
      " |      Return self&=value.\n",
      " |  \n",
      " |  __init__(self, /, *args, **kwargs)\n",
      " |      Initialize self.  See help(type(self)) for accurate signature.\n",
      " |  \n",
      " |  __ior__(self, value, /)\n",
      " |      Return self|=value.\n",
      " |  \n",
      " |  __isub__(self, value, /)\n",
      " |      Return self-=value.\n",
      " |  \n",
      " |  __iter__(self, /)\n",
      " |      Implement iter(self).\n",
      " |  \n",
      " |  __ixor__(self, value, /)\n",
      " |      Return self^=value.\n",
      " |  \n",
      " |  __le__(self, value, /)\n",
      " |      Return self<=value.\n",
      " |  \n",
      " |  __len__(self, /)\n",
      " |      Return len(self).\n",
      " |  \n",
      " |  __lt__(self, value, /)\n",
      " |      Return self<value.\n",
      " |  \n",
      " |  __ne__(self, value, /)\n",
      " |      Return self!=value.\n",
      " |  \n",
      " |  __or__(self, value, /)\n",
      " |      Return self|value.\n",
      " |  \n",
      " |  __rand__(self, value, /)\n",
      " |      Return value&self.\n",
      " |  \n",
      " |  __reduce__(...)\n",
      " |      Return state information for pickling.\n",
      " |  \n",
      " |  __repr__(self, /)\n",
      " |      Return repr(self).\n",
      " |  \n",
      " |  __ror__(self, value, /)\n",
      " |      Return value|self.\n",
      " |  \n",
      " |  __rsub__(self, value, /)\n",
      " |      Return value-self.\n",
      " |  \n",
      " |  __rxor__(self, value, /)\n",
      " |      Return value^self.\n",
      " |  \n",
      " |  __sizeof__(...)\n",
      " |      S.__sizeof__() -> size of S in memory, in bytes\n",
      " |  \n",
      " |  __sub__(self, value, /)\n",
      " |      Return self-value.\n",
      " |  \n",
      " |  __xor__(self, value, /)\n",
      " |      Return self^value.\n",
      " |  \n",
      " |  add(...)\n",
      " |      Add an element to a set.\n",
      " |      \n",
      " |      This has no effect if the element is already present.\n",
      " |  \n",
      " |  clear(...)\n",
      " |      Remove all elements from this set.\n",
      " |  \n",
      " |  copy(...)\n",
      " |      Return a shallow copy of a set.\n",
      " |  \n",
      " |  difference(...)\n",
      " |      Return the difference of two or more sets as a new set.\n",
      " |      \n",
      " |      (i.e. all elements that are in this set but not the others.)\n",
      " |  \n",
      " |  difference_update(...)\n",
      " |      Remove all elements of another set from this set.\n",
      " |  \n",
      " |  discard(...)\n",
      " |      Remove an element from a set if it is a member.\n",
      " |      \n",
      " |      If the element is not a member, do nothing.\n",
      " |  \n",
      " |  intersection(...)\n",
      " |      Return the intersection of two sets as a new set.\n",
      " |      \n",
      " |      (i.e. all elements that are in both sets.)\n",
      " |  \n",
      " |  intersection_update(...)\n",
      " |      Update a set with the intersection of itself and another.\n",
      " |  \n",
      " |  isdisjoint(...)\n",
      " |      Return True if two sets have a null intersection.\n",
      " |  \n",
      " |  issubset(...)\n",
      " |      Report whether another set contains this set.\n",
      " |  \n",
      " |  issuperset(...)\n",
      " |      Report whether this set contains another set.\n",
      " |  \n",
      " |  pop(...)\n",
      " |      Remove and return an arbitrary set element.\n",
      " |      Raises KeyError if the set is empty.\n",
      " |  \n",
      " |  remove(...)\n",
      " |      Remove an element from a set; it must be a member.\n",
      " |      \n",
      " |      If the element is not a member, raise a KeyError.\n",
      " |  \n",
      " |  symmetric_difference(...)\n",
      " |      Return the symmetric difference of two sets as a new set.\n",
      " |      \n",
      " |      (i.e. all elements that are in exactly one of the sets.)\n",
      " |  \n",
      " |  symmetric_difference_update(...)\n",
      " |      Update a set with the symmetric difference of itself and another.\n",
      " |  \n",
      " |  union(...)\n",
      " |      Return the union of sets as a new set.\n",
      " |      \n",
      " |      (i.e. all elements that are in either set.)\n",
      " |  \n",
      " |  update(...)\n",
      " |      Update a set with the union of itself and others.\n",
      " |  \n",
      " |  ----------------------------------------------------------------------\n",
      " |  Static methods defined here:\n",
      " |  \n",
      " |  __new__(*args, **kwargs) from builtins.type\n",
      " |      Create and return a new object.  See help(type) for accurate signature.\n",
      " |  \n",
      " |  ----------------------------------------------------------------------\n",
      " |  Data and other attributes defined here:\n",
      " |  \n",
      " |  __hash__ = None\n",
      "\n"
     ]
    }
   ],
   "source": [
    "help(set)"
   ]
  },
  {
   "cell_type": "code",
   "execution_count": 13,
   "id": "7f57283a",
   "metadata": {},
   "outputs": [],
   "source": [
    "# 정렬을 하려면 list나 tuple의 형태로 되어 있는 상태에서 해야 한다. "
   ]
  },
  {
   "cell_type": "code",
   "execution_count": 16,
   "id": "ae21f290",
   "metadata": {},
   "outputs": [
    {
     "name": "stdout",
     "output_type": "stream",
     "text": [
      "{2, 4}\n",
      "{1, 2, 3, 4, 5, 6, 8, 10}\n",
      "{8, 10, 6}\n"
     ]
    }
   ],
   "source": [
    "# 집합 다루기_ 집합 관련 함수   \n",
    "s1 = {2,4,6,8,10}  # 빈 {]에서만 set함수 설정이 필요하다. (dict가 {}이기 때문에)\n",
    "s2 = {1,2,3,4,5}\n",
    "s = s1 & s2 # 교집합\n",
    "print(s)\n",
    "\n",
    "s = s1 | s2  # 합집합\n",
    "print(s) \n",
    "\n",
    "s = s1 - s2 # 차집합\n",
    "print(s)"
   ]
  },
  {
   "cell_type": "code",
   "execution_count": 17,
   "id": "cf236fcf",
   "metadata": {},
   "outputs": [
    {
     "name": "stdout",
     "output_type": "stream",
     "text": [
      "<class 'set'>\n"
     ]
    }
   ],
   "source": [
    "s1 = {2,4,6,8,10}\n",
    "print(type(s1))"
   ]
  },
  {
   "cell_type": "code",
   "execution_count": 19,
   "id": "d7e7b6f4",
   "metadata": {},
   "outputs": [
    {
     "name": "stdout",
     "output_type": "stream",
     "text": [
      "<class 'dict'>\n"
     ]
    }
   ],
   "source": [
    "a = {'1': '2'}\n",
    "print(type(a))"
   ]
  },
  {
   "cell_type": "code",
   "execution_count": 22,
   "id": "29228279",
   "metadata": {},
   "outputs": [
    {
     "data": {
      "text/plain": [
       "set"
      ]
     },
     "execution_count": 22,
     "metadata": {},
     "output_type": "execute_result"
    }
   ],
   "source": [
    "numset = {num for num in range(1,6)}\n",
    "numset\n",
    "type(numset)"
   ]
  },
  {
   "cell_type": "code",
   "execution_count": 23,
   "id": "23e7ae7d",
   "metadata": {},
   "outputs": [
    {
     "ename": "SyntaxError",
     "evalue": "invalid syntax (Temp/ipykernel_10428/3031836096.py, line 1)",
     "output_type": "error",
     "traceback": [
      "\u001b[1;36m  File \u001b[1;32m\"C:\\Users\\PC021\\AppData\\Local\\Temp/ipykernel_10428/3031836096.py\"\u001b[1;36m, line \u001b[1;32m1\u001b[0m\n\u001b[1;33m    numlist = [if num%3 == 0 num for num in range(1,11) ]\u001b[0m\n\u001b[1;37m               ^\u001b[0m\n\u001b[1;31mSyntaxError\u001b[0m\u001b[1;31m:\u001b[0m invalid syntax\n"
     ]
    }
   ],
   "source": []
  },
  {
   "cell_type": "code",
   "execution_count": null,
   "id": "1b688c1b",
   "metadata": {},
   "outputs": [],
   "source": []
  }
 ],
 "metadata": {
  "kernelspec": {
   "display_name": "Python 3 (ipykernel)",
   "language": "python",
   "name": "python3"
  },
  "language_info": {
   "codemirror_mode": {
    "name": "ipython",
    "version": 3
   },
   "file_extension": ".py",
   "mimetype": "text/x-python",
   "name": "python",
   "nbconvert_exporter": "python",
   "pygments_lexer": "ipython3",
   "version": "3.8.10"
  }
 },
 "nbformat": 4,
 "nbformat_minor": 5
}
