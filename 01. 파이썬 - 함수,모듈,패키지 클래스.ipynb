{
 "cells": [
  {
   "cell_type": "markdown",
   "id": "5b32cd77",
   "metadata": {},
   "source": [
    "## 함수 \n",
    "### 함수 정의"
   ]
  },
  {
   "cell_type": "code",
   "execution_count": 1,
   "id": "da9b5586",
   "metadata": {},
   "outputs": [],
   "source": [
    "def add(p1, p2):\n",
    "    return p1 + p2"
   ]
  },
  {
   "cell_type": "code",
   "execution_count": 2,
   "id": "225e4e49",
   "metadata": {},
   "outputs": [],
   "source": [
    "def add(p1, p2):\n",
    "    result = p1 + p2\n",
    "    return result"
   ]
  },
  {
   "cell_type": "code",
   "execution_count": 3,
   "id": "c5fbadf7",
   "metadata": {},
   "outputs": [],
   "source": [
    "def add(p1, p2):\n",
    "    return (f'{p1+p2}')"
   ]
  },
  {
   "cell_type": "code",
   "execution_count": 4,
   "id": "53257ed1",
   "metadata": {},
   "outputs": [],
   "source": [
    "# def는 코드 재사용성이 크다 "
   ]
  },
  {
   "cell_type": "code",
   "execution_count": null,
   "id": "68eb345a",
   "metadata": {},
   "outputs": [],
   "source": [
    "def calc(n1, n2, op):\n",
    "    if op == '+':\n",
    "        return n1+n2\n",
    "    if op == '-':\n",
    "        return n1 - n2\n",
    "    if op == '*':\n",
    "        return n1 * n2\n",
    "    if op == '/':\n",
    "        return n1 / n2 \n",
    "\n",
    "num1 = int(input('첫 번째 숫자: '))\n",
    "num2 = int(input('두 번째 숫자: '))\n",
    "op = input('연산 기호: ')\n",
    "print('결과: %s' % calc(num1,num2,op))"
   ]
  },
  {
   "cell_type": "code",
   "execution_count": null,
   "id": "1ef2631d",
   "metadata": {},
   "outputs": [],
   "source": []
  }
 ],
 "metadata": {
  "kernelspec": {
   "display_name": "Python 3 (ipykernel)",
   "language": "python",
   "name": "python3"
  },
  "language_info": {
   "codemirror_mode": {
    "name": "ipython",
    "version": 3
   },
   "file_extension": ".py",
   "mimetype": "text/x-python",
   "name": "python",
   "nbconvert_exporter": "python",
   "pygments_lexer": "ipython3",
   "version": "3.8.10"
  }
 },
 "nbformat": 4,
 "nbformat_minor": 5
}
