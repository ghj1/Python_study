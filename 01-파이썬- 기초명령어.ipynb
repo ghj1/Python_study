{
 "cells": [
  {
   "cell_type": "markdown",
   "id": "3560acd0",
   "metadata": {},
   "source": [
    "# 제목 \n",
    "## 제목\n",
    "### 제목\n",
    "#### 제목\n",
    "\n",
    " - 오늘은 파이썬 첫 시간입니다.\n",
    " 1. 처음은 항상 즐겁죠.\n",
    " 2. 만나서 반가워요 "
   ]
  },
  {
   "cell_type": "code",
   "execution_count": 2,
   "id": "7ab555a0",
   "metadata": {},
   "outputs": [
    {
     "name": "stdout",
     "output_type": "stream",
     "text": [
      "1에서 10까지의 합계: 55\n"
     ]
    }
   ],
   "source": [
    "hap = 0\n",
    "\n",
    "for i in range(1,11,1):\n",
    "    hap = hap + i\n",
    "print(f'1에서 10까지의 합계: {hap}')"
   ]
  },
  {
   "cell_type": "code",
   "execution_count": 3,
   "id": "7c61971b",
   "metadata": {},
   "outputs": [
    {
     "data": {
      "text/plain": [
       "'c:\\\\python\\\\python38\\\\python.exe'"
      ]
     },
     "execution_count": 3,
     "metadata": {},
     "output_type": "execute_result"
    }
   ],
   "source": [
    "import sys \n",
    "\n",
    "sys.executable\n"
   ]
  },
  {
   "cell_type": "code",
   "execution_count": 5,
   "id": "2449a288",
   "metadata": {
    "scrolled": false
   },
   "outputs": [
    {
     "name": "stdout",
     "output_type": "stream",
     "text": [
      "['C:\\\\python\\\\rapa', 'c:\\\\python\\\\python38\\\\python38.zip', 'c:\\\\python\\\\python38\\\\DLLs', 'c:\\\\python\\\\python38\\\\lib', 'c:\\\\python\\\\python38', '', 'c:\\\\python\\\\python38\\\\lib\\\\site-packages', 'c:\\\\python\\\\python38\\\\lib\\\\site-packages\\\\win32', 'c:\\\\python\\\\python38\\\\lib\\\\site-packages\\\\win32\\\\lib', 'c:\\\\python\\\\python38\\\\lib\\\\site-packages\\\\Pythonwin', 'c:\\\\python\\\\python38\\\\lib\\\\site-packages\\\\IPython\\\\extensions', 'C:\\\\Users\\\\PC021\\\\.ipython']\n"
     ]
    }
   ],
   "source": [
    "print(sys.path)"
   ]
  },
  {
   "cell_type": "code",
   "execution_count": 2,
   "id": "e6175a4f",
   "metadata": {
    "scrolled": true
   },
   "outputs": [
    {
     "name": "stdout",
     "output_type": "stream",
     "text": [
      "Note: you may need to restart the kernel to use updated packages.\n"
     ]
    },
    {
     "name": "stderr",
     "output_type": "stream",
     "text": [
      "파일 이름, 디렉터리 이름 또는 볼륨 레이블 구문이 잘못되었습니다.\n"
     ]
    }
   ],
   "source": [
    "pip show jupyter"
   ]
  },
  {
   "cell_type": "code",
   "execution_count": 3,
   "id": "eddc7301",
   "metadata": {},
   "outputs": [],
   "source": [
    "### 정수의 진수 표현"
   ]
  },
  {
   "cell_type": "code",
   "execution_count": 4,
   "id": "d21ec3a0",
   "metadata": {},
   "outputs": [
    {
     "name": "stdout",
     "output_type": "stream",
     "text": [
      "83\n",
      "4764\n",
      "4266\n"
     ]
    }
   ],
   "source": [
    "b1 = 0b1010011\n",
    "o1 = 0o11234\n",
    "h1 = 0x10AA\n",
    "print(b1)\n",
    "print(o1)\n",
    "print(h1)"
   ]
  },
  {
   "cell_type": "code",
   "execution_count": 6,
   "id": "5eaaaa84",
   "metadata": {},
   "outputs": [
    {
     "name": "stdout",
     "output_type": "stream",
     "text": [
      "0b1100100\n",
      "0o144\n",
      "0x64\n"
     ]
    }
   ],
   "source": [
    "b1 = bin(100)\n",
    "o1 = oct(100)\n",
    "h1 = hex(100)\n",
    "print(b1)\n",
    "print(o1)\n",
    "print(h1)"
   ]
  },
  {
   "cell_type": "code",
   "execution_count": 9,
   "id": "1f092a50",
   "metadata": {},
   "outputs": [
    {
     "name": "stdout",
     "output_type": "stream",
     "text": [
      "<class 'str'>\n",
      "<class 'str'>\n",
      "<class 'str'>\n"
     ]
    }
   ],
   "source": [
    "b1 = bin(100)\n",
    "o1 = oct(100)\n",
    "h1 = hex(100)\n",
    "print(type(b1))\n",
    "print(type(o1))\n",
    "print(type(h1))"
   ]
  },
  {
   "cell_type": "code",
   "execution_count": 14,
   "id": "6d013716",
   "metadata": {},
   "outputs": [
    {
     "name": "stdout",
     "output_type": "stream",
     "text": [
      "파이썬 수업시간입니다.\n",
      "OK!\n",
      "\n",
      "파이썬 수업시간입니다.\n",
      "OK!\n"
     ]
    }
   ],
   "source": [
    "s = '파이썬 수업시간입니다.\\nOK!'\n",
    "s2 = '''\n",
    "파이썬 수업시간입니다.\n",
    "OK!'''\n",
    "\n",
    "print(s)\n",
    "print(s2)"
   ]
  },
  {
   "cell_type": "markdown",
   "id": "0c6a9e00",
   "metadata": {},
   "source": [
    "### print()"
   ]
  },
  {
   "cell_type": "code",
   "execution_count": 16,
   "id": "8c9f6936",
   "metadata": {},
   "outputs": [
    {
     "name": "stdout",
     "output_type": "stream",
     "text": [
      "----------\n",
      "\n",
      "\n",
      "----------\n"
     ]
    }
   ],
   "source": [
    "print('-'*10)\n",
    "print()\n",
    "print()\n",
    "print('-'*10)"
   ]
  },
  {
   "cell_type": "markdown",
   "id": "9d3c4fa1",
   "metadata": {},
   "source": [
    "### 4칙연산 프로그램"
   ]
  },
  {
   "cell_type": "code",
   "execution_count": 22,
   "id": "aea69673",
   "metadata": {},
   "outputs": [
    {
     "name": "stdout",
     "output_type": "stream",
     "text": [
      "첫번째 숫자: 50\n",
      "두번째 숫자: 20\n",
      "입력된:  50 20\n",
      "50 + 20 = 70\n",
      "50 - 20 = 30\n",
      "50 * 20 = 1000\n",
      "50 / 20 = 2\n",
      "50 // 20 = 2\n"
     ]
    },
    {
     "ename": "ValueError",
     "evalue": "unsupported format character '%' (0x25) at index 5",
     "output_type": "error",
     "traceback": [
      "\u001b[1;31m---------------------------------------------------------------------------\u001b[0m",
      "\u001b[1;31mValueError\u001b[0m                                Traceback (most recent call last)",
      "\u001b[1;32m~\\AppData\\Local\\Temp/ipykernel_3632/1338884788.py\u001b[0m in \u001b[0;36m<module>\u001b[1;34m\u001b[0m\n\u001b[0;32m      9\u001b[0m \u001b[0mprint\u001b[0m\u001b[1;33m(\u001b[0m\u001b[1;34m'%d / %d = %d'\u001b[0m \u001b[1;33m%\u001b[0m \u001b[1;33m(\u001b[0m\u001b[0mnum1\u001b[0m\u001b[1;33m,\u001b[0m \u001b[0mnum2\u001b[0m\u001b[1;33m,\u001b[0m \u001b[1;33m(\u001b[0m\u001b[0mnum1\u001b[0m \u001b[1;33m/\u001b[0m \u001b[0mnum2\u001b[0m\u001b[1;33m)\u001b[0m\u001b[1;33m)\u001b[0m\u001b[1;33m)\u001b[0m\u001b[1;33m\u001b[0m\u001b[1;33m\u001b[0m\u001b[0m\n\u001b[0;32m     10\u001b[0m \u001b[0mprint\u001b[0m\u001b[1;33m(\u001b[0m\u001b[1;34m'%d // %d = %d'\u001b[0m \u001b[1;33m%\u001b[0m \u001b[1;33m(\u001b[0m\u001b[0mnum1\u001b[0m\u001b[1;33m,\u001b[0m \u001b[0mnum2\u001b[0m\u001b[1;33m,\u001b[0m \u001b[1;33m(\u001b[0m\u001b[0mnum1\u001b[0m \u001b[1;33m//\u001b[0m \u001b[0mnum2\u001b[0m\u001b[1;33m)\u001b[0m\u001b[1;33m)\u001b[0m\u001b[1;33m)\u001b[0m\u001b[1;33m\u001b[0m\u001b[1;33m\u001b[0m\u001b[0m\n\u001b[1;32m---> 11\u001b[1;33m \u001b[0mprint\u001b[0m\u001b[1;33m(\u001b[0m\u001b[1;34m'%f % %f = %f'\u001b[0m \u001b[1;33m%\u001b[0m \u001b[1;33m(\u001b[0m\u001b[0mnum1\u001b[0m\u001b[1;33m,\u001b[0m \u001b[0mnum2\u001b[0m\u001b[1;33m,\u001b[0m \u001b[1;33m(\u001b[0m\u001b[0mnum1\u001b[0m \u001b[1;33m%\u001b[0m \u001b[0mnum2\u001b[0m\u001b[1;33m)\u001b[0m\u001b[1;33m)\u001b[0m\u001b[1;33m)\u001b[0m\u001b[1;33m\u001b[0m\u001b[1;33m\u001b[0m\u001b[0m\n\u001b[0m",
      "\u001b[1;31mValueError\u001b[0m: unsupported format character '%' (0x25) at index 5"
     ]
    }
   ],
   "source": [
    "num1 = int(input('첫번째 숫자: '))\n",
    "num2 = int(input('두번째 숫자: '))\n",
    "\n",
    "print('입력된: ', num1, num2)\n",
    "\n",
    "print('%d + %d = %d' % (num1, num2, (num1 + num2)))\n",
    "print('%d - %d = %d' % (num1, num2, (num1 - num2)))\n",
    "print('%d * %d = %d' % (num1, num2, (num1 * num2)))\n",
    "print('%d / %d = %d' % (num1, num2, (num1 / num2)))\n",
    "print('%d // %d = %d' % (num1, num2, (num1 // num2)))\n",
    "print('%f % %f = %f' % (num1, num2, (num1 % num2)))"
   ]
  },
  {
   "cell_type": "code",
   "execution_count": 31,
   "id": "d5a7e731",
   "metadata": {},
   "outputs": [
    {
     "name": "stdout",
     "output_type": "stream",
     "text": [
      "첫번째 숫자: 50\n",
      "첫번째 숫자: 3\n",
      "덧셈: 50 + 3 = 53\n",
      "뺄셈: 50 - 3 = 47\n",
      "곱셈: 50 * 3 = 150\n",
      "몫: 50 // 3 = 16\n",
      "나머지: 50 % 3 = 2\n"
     ]
    }
   ],
   "source": [
    "num1 = int(input('첫번째 숫자: '))\n",
    "num2 = int(input('첫번째 숫자: '))\n",
    "\n",
    "print('덧셈: ''%d + %d = %d' % (num1, num2, (num1 + num2)))\n",
    "print('뺄셈: ' '%d - %d = %d' % (num1, num2, (num1 - num2)))\n",
    "print('곱셈: ''%d * %d = %d' % (num1, num2, (num1 * num2)))\n",
    "print('몫: ''%d // %d = %d' % (num1, num2, (num1 // num2)))\n",
    "print('나머지: ''%d %% %d = %d'% (num1, num2, (num1 % num2)))"
   ]
  },
  {
   "cell_type": "code",
   "execution_count": 42,
   "id": "8b1db5f8",
   "metadata": {
    "scrolled": true
   },
   "outputs": [
    {
     "name": "stdout",
     "output_type": "stream",
     "text": [
      "속도를 입력해 주세요: 200\n",
      "거리를 입력해 주세요:50\n",
      "속도=  200\n",
      "거리=  50\n",
      "시간= 50 / 200 =     0.2\n"
     ]
    }
   ],
   "source": [
    "vel = int(input(\"속도를 입력해 주세요: \"))\n",
    "dis = int(input(\"거리를 입력해 주세요:\"))\n",
    "time = round(dis/vel, 1)\n",
    "print('속도= ', vel)\n",
    "print('거리= ', dis)\n",
    "print('시간=', '%d / %d = %7.1f' %(dis, vel, (dis/vel)))"
   ]
  },
  {
   "cell_type": "code",
   "execution_count": 3,
   "id": "b670758d",
   "metadata": {
    "scrolled": true
   },
   "outputs": [
    {
     "name": "stdout",
     "output_type": "stream",
     "text": [
      "길이:100\n",
      "너비:20\n",
      "면적: 100 *  20 = 2000\n",
      "둘레:  100*2 * 20*2 = 240\n"
     ]
    }
   ],
   "source": [
    "lo =int(input('길이:'))\n",
    "h = int(input('너비:'))\n",
    "lohe = lo*2 + h*2\n",
    "\n",
    "print('면적:', '%d * % d = %d' %(lo, h, (lo*h)))\n",
    "print('둘레: ', '%d*2 * %d*2 = %d' %(lo, h, (lohe)))"
   ]
  },
  {
   "cell_type": "code",
   "execution_count": 19,
   "id": "b9de0a5e",
   "metadata": {
    "scrolled": false
   },
   "outputs": [
    {
     "name": "stdout",
     "output_type": "stream",
     "text": [
      "정수를 입력하세요: 7\n",
      "7+77+777 = 861\n"
     ]
    }
   ],
   "source": [
    "a= input('정수를 입력하세요: ')\n",
    "\n",
    "n = int(a)\n",
    "nn= int(a+a)\n",
    "nnn = int(a+a+a)\n",
    "\n",
    "print(f'{n}+{nn}+{nnn} = {n+nn+nnn}')"
   ]
  },
  {
   "cell_type": "code",
   "execution_count": null,
   "id": "4c8e77b1",
   "metadata": {},
   "outputs": [],
   "source": []
  }
 ],
 "metadata": {
  "kernelspec": {
   "display_name": "Python 3 (ipykernel)",
   "language": "python",
   "name": "python3"
  },
  "language_info": {
   "codemirror_mode": {
    "name": "ipython",
    "version": 3
   },
   "file_extension": ".py",
   "mimetype": "text/x-python",
   "name": "python",
   "nbconvert_exporter": "python",
   "pygments_lexer": "ipython3",
   "version": "3.8.10"
  }
 },
 "nbformat": 4,
 "nbformat_minor": 5
}
